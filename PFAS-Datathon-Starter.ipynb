{
 "cells": [
  {
   "cell_type": "code",
   "execution_count": null,
   "metadata": {},
   "outputs": [],
   "source": [
    "%matplotlib inline"
   ]
  },
  {
   "cell_type": "code",
   "execution_count": null,
   "metadata": {},
   "outputs": [],
   "source": [
    "import sklearn #machine learning module: clustering, normalization, learning X->Y linear regression\n",
    "import matplotlib #matlabs plotting library\n",
    "import pandas as pd\n",
    "import re\n",
    "import subprocess\n",
    "import glob\n",
    "from tqdm import tqdm\n",
    "import numpy as np "
   ]
  },
  {
   "cell_type": "code",
   "execution_count": null,
   "metadata": {},
   "outputs": [],
   "source": [
    "#change filepath to wherever you saved the .txt files for each of the 58 ca counties\n",
    "infold='/PFAS-Datathon/'"
   ]
  },
  {
   "cell_type": "code",
   "execution_count": null,
   "metadata": {},
   "outputs": [],
   "source": [
    "files=glob.glob(infold+'gama_*.txt')\n",
    "len(files) #should be 58"
   ]
  },
  {
   "cell_type": "code",
   "execution_count": null,
   "metadata": {},
   "outputs": [],
   "source": [
    "#takes the .txt files for all 58 counties and reformats them to have rows as sample ID and columns as chemical; saves these as .h5\n",
    "for i in tqdm(range(len(files))):\n",
    "    f=files[i]\n",
    "    print(f)\n",
    "    curdf=pd.read_csv(f,sep='\\t',index_col=0,encoding='iso-8859-1').drop_duplicates().replace(0.0,np.nan)\n",
    "    curdf=curdf.replace('UNK',0)\n",
    "    numfilt=curdf['RL'].astype(float)<curdf['RESULTS'].astype(float)\n",
    "    curdf=curdf[numfilt]\n",
    "    sm=curdf[['LONGITUDE','LATITUDE']].drop_duplicates()\n",
    "    qualifers=['=','nan','>',np.nan]\n",
    "    qualifer_filt=curdf[curdf.QUALIFER.isin(qualifers)]\n",
    "    qualifer_filt=qualifer_filt.drop_duplicates()\n",
    "    qualifer_filt['CHEMICAL'] = qualifer_filt['CHEMICAL'].astype('category')\n",
    "    qualifer_filt.index=[str(x)+';'+str(y) for x,y in zip(qualifer_filt.index,qualifer_filt['DATE'])]\n",
    "    TMP=qualifer_filt['RESULTS'].groupby([qualifer_filt.index,qualifer_filt['CHEMICAL']])\n",
    "    TMP=pd.DataFrame(TMP.max())\n",
    "    w,c=zip(*[x for x in list(TMP.index)])\n",
    "    TMP['well']=w\n",
    "    TMP['chem']=c\n",
    "    DFFFFFFFFFFFF=TMP.pivot(index='well',columns='chem',values='RESULTS')\n",
    "    DFWELLMETA=qualifer_filt.iloc[:,6:]\n",
    "    df_allsmetaresults=DFFFFFFFFFFFF.join(DFWELLMETA)\n",
    "    unique=df_allsmetaresults.drop_duplicates()\n",
    "    unique.to_hdf(infold+f.split('/')[-1].split('.')[0]+'.h5',key='PFAS')\n",
    "    del curdf,sm,qualifer_filt,TMP,DFFFFFFFFFFFF,DFWELLMETA,df_allsmetaresults,unique"
   ]
  },
  {
   "cell_type": "code",
   "execution_count": null,
   "metadata": {},
   "outputs": [],
   "source": [
    "files=glob.glob(infold+'gama_*.h5')\n",
    "len(files) #check that it's still 58"
   ]
  },
  {
   "cell_type": "code",
   "execution_count": null,
   "metadata": {},
   "outputs": [],
   "source": [
    "dfs=[]\n",
    "for i in tqdm(range(len(files))):\n",
    "    f=files[i]\n",
    "    curdf=pd.read_hdf(f,key='PFAS')\n",
    "    dfs.append(curdf)   "
   ]
  },
  {
   "cell_type": "code",
   "execution_count": null,
   "metadata": {},
   "outputs": [],
   "source": [
    "#makes a dataframe including all 58 counties' data\n",
    "DF=pd.concat(dfs)\n",
    "DF"
   ]
  },
  {
   "cell_type": "code",
   "execution_count": null,
   "metadata": {},
   "outputs": [],
   "source": [
    "#saves file\n",
    "DF.to_hdf('filepath/filename.h5',key='bigfile')"
   ]
  },
  {
   "cell_type": "code",
   "execution_count": null,
   "metadata": {},
   "outputs": [],
   "source": [
    "list(DF.columns)"
   ]
  }
 ],
 "metadata": {
  "kernelspec": {
   "display_name": "Python 3",
   "language": "python",
   "name": "python3"
  },
  "language_info": {
   "codemirror_mode": {
    "name": "ipython",
    "version": 3
   },
   "file_extension": ".py",
   "mimetype": "text/x-python",
   "name": "python",
   "nbconvert_exporter": "python",
   "pygments_lexer": "ipython3",
   "version": "3.7.3"
  }
 },
 "nbformat": 4,
 "nbformat_minor": 2
}
